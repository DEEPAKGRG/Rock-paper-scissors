{
 "cells": [
  {
   "cell_type": "code",
   "execution_count": null,
   "metadata": {},
   "outputs": [],
   "source": [
    "#importing modules\n",
    "import keras\n",
    "from keras.models import Sequential\n",
    "from keras.layers import Conv2D\n",
    "from keras.layers import MaxPooling2D\n",
    "from keras.layers import Flatten\n",
    "from keras.layers import Dense\n",
    "from keras.layers import Dropout\n",
    "from keras.layers import GlobalAveragePooling2D\n",
    "from keras.layers import Activation\n",
    "from keras.optimizers import Adam\n",
    "from keras.applications import MobileNetV2\n",
    "import cv2\n",
    "import numpy as np\n",
    "import numpy as np\n",
    "from keras.preprocessing import image\n",
    "import pandas as pd\n",
    "from keras.preprocessing.image import ImageDataGenerator\n",
    "import os\n",
    "import matplotlib.pyplot as plt\n",
    "import tensorflow as tf\n",
    "import pickle\n",
    "IMG_SIZE=224\n"
   ]
  },
  {
   "cell_type": "code",
   "execution_count": null,
   "metadata": {},
   "outputs": [],
   "source": [
    "\n",
    "#creating train data\n",
    "import random\n",
    "id_array=[\"0\",\"1\",\"2\",\"3\"]\n",
    "train_data=[]\n",
    "path2=\"image_data/\"\n",
    "\n",
    "def create_train_data():\n",
    "  for category in id_array:\n",
    "    newpath=os.path.join(path2,category)\n",
    "    class_num=id_array.index(category)\n",
    "    for img in os.listdir(newpath):\n",
    "        img_array=cv2.imread(os.path.join(newpath,img) )\n",
    "        img_array = cv2.cvtColor(img_array, cv2.COLOR_BGR2RGB)\n",
    "        # print(img_array)\n",
    "        new_array=cv2.resize(img_array,(IMG_SIZE,IMG_SIZE))\n",
    "##        plt.imshow(new_array,cmap=\"gray\")\n",
    "##        plt.show()\n",
    "##        break\n",
    "        train_data.append([new_array,class_num])\n",
    "\n",
    "create_train_data()\n",
    "random.shuffle(train_data)\n",
    "\n",
    "\n",
    "X=[]\n",
    "y=[]\n",
    "i=0  \n",
    "for features , labels in train_data:\n",
    "  X.append(features)\n",
    "  y.append(labels)\n",
    "depth = 5\n",
    "print(len(X))\n",
    "X=np.array(X).reshape(-1,IMG_SIZE,IMG_SIZE,3)\n",
    "X=X/255.0\n",
    "one_hot_y=tf.one_hot(y, 4)\n",
    "ohy=np.array(one_hot_y)\n",
    "\n",
    "\n",
    "with open(\"X.txt\", \"wb\") as fp:\n",
    "    pickle.dump(X, fp)\n",
    "\n",
    "with open(\"y.txt\", \"wb\") as fp:\n",
    "    pickle.dump(ohy, fp)"
   ]
  },
  {
   "cell_type": "code",
   "execution_count": null,
   "metadata": {},
   "outputs": [],
   "source": [
    "#Creating Model \n",
    "NUM_CLASSES=4\n",
    "def get_model():\n",
    "    model = Sequential([\n",
    "        MobileNetV2(input_shape=(IMG_SIZE, IMG_SIZE, 3), include_top=False),name='a',\n",
    "        Dropout(0.5),\n",
    "        Conv2D(NUM_CLASSES, (1, 1), padding='valid'),\n",
    "        Activation('relu'),\n",
    "        GlobalAveragePooling2D(),\n",
    "        Activation('softmax')\n",
    "    ])\n",
    "    return model\n",
    "\n",
    "model = get_model()"
   ]
  },
  {
   "cell_type": "code",
   "execution_count": null,
   "metadata": {},
   "outputs": [],
   "source": [
    "  \n",
    "model.compile(\n",
    "    optimizer=Adam(lr=0.0001),\n",
    "    loss='categorical_crossentropy',\n",
    "    metrics=['accuracy']\n",
    ")\n",
    "\n"
   ]
  },
  {
   "cell_type": "code",
   "execution_count": null,
   "metadata": {},
   "outputs": [],
   "source": [
    "# start training\n",
    "model.fit(X,ohy, batch_size=32,epochs=10,validation_split=0.15)"
   ]
  },
  {
   "cell_type": "code",
   "execution_count": null,
   "metadata": {},
   "outputs": [],
   "source": [
    "# save the model for later use\n",
    "model.save(\"rock-paper-scissors-model.h5\")"
   ]
  },
  {
   "cell_type": "code",
   "execution_count": null,
   "metadata": {},
   "outputs": [],
   "source": [
    "model=keras.models.load_model(\"rock-paper-scissors-model.h5\")"
   ]
  },
  {
   "cell_type": "code",
   "execution_count": null,
   "metadata": {},
   "outputs": [],
   "source": [
    "i=0\n",
    "d=0\n",
    "for img in X:\n",
    "  pred = model.predict(np.array([img]))\n",
    "  move_code = np.argmax(pred[0])\n",
    "  # plt.imshow(img,cmap=\"gray\")\n",
    "  # plt.show()\n",
    "  # print(move_code)\n",
    "  # i+=1\n",
    "  # if i==5:\n",
    "  #   break\n",
    "  if move_code!=y[i]:\n",
    "    d+=1\n",
    "    print(d)\n",
    "  i+=1"
   ]
  },
  {
   "cell_type": "code",
   "execution_count": null,
   "metadata": {},
   "outputs": [],
   "source": [
    "print(d)"
   ]
  },
  {
   "cell_type": "code",
   "execution_count": null,
   "metadata": {},
   "outputs": [],
   "source": [
    "print(ohy)\n"
   ]
  }
 ],
 "metadata": {
  "kernelspec": {
   "display_name": "Python 3",
   "language": "python",
   "name": "python3"
  },
  "language_info": {
   "codemirror_mode": {
    "name": "ipython",
    "version": 3
   },
   "file_extension": ".py",
   "mimetype": "text/x-python",
   "name": "python",
   "nbconvert_exporter": "python",
   "pygments_lexer": "ipython3",
   "version": "3.7.4"
  }
 },
 "nbformat": 4,
 "nbformat_minor": 2
}
