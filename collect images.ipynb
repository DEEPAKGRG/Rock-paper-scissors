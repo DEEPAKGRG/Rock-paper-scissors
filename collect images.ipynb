{
 "cells": [
  {
   "cell_type": "code",
   "execution_count": 6,
   "metadata": {},
   "outputs": [],
   "source": [
    "import cv2\n"
   ]
  },
  {
   "cell_type": "markdown",
   "metadata": {},
   "source": [
    "rock"
   ]
  },
  {
   "cell_type": "code",
   "execution_count": 13,
   "metadata": {},
   "outputs": [
    {
     "name": "stdout",
     "output_type": "stream",
     "text": [
      "Colleting Samples Complete!!!\n"
     ]
    }
   ],
   "source": [
    "\n",
    "cap = cv2.VideoCapture(0)\n",
    "count = 0\n",
    "\n",
    "while True:\n",
    "        ret, frame = cap.read()\n",
    "        \n",
    "        cv2.rectangle(frame, (100, 100), (400, 400), (0, 255, 0), 0)\n",
    "        crop_image = frame[100:300, 100:300]\n",
    "        crop_image = cv2.resize(crop_image, (128, 128))\n",
    "        if cv2.waitKey(1)==13 or count==200:#(presss enter to escape)\n",
    "            break  \n",
    "        elif cv2.waitKey(1)== ord('a') or count>0:#(press enter to start)\n",
    "            count+=1\n",
    "            file_name_path = 'C:/Users/HP/Desktop/rock paper scissor/images/rock/'+str(count)+'.jpg'\n",
    "            cv2.imwrite(file_name_path,crop_image)\n",
    "           \n",
    "\n",
    "        cv2.putText(frame,str(count),(50,50),cv2.FONT_HERSHEY_COMPLEX,1,(0,255,0),2)\n",
    "        cv2.imshow('Rock',frame)\n",
    "\n",
    "cap.release()\n",
    "cv2.destroyAllWindows()\n",
    "print('Colleting Samples Complete!!!')\n"
   ]
  },
  {
   "cell_type": "code",
   "execution_count": 8,
   "metadata": {},
   "outputs": [],
   "source": [
    "cap.release()\n",
    "cv2.destroyAllWindows()"
   ]
  },
  {
   "cell_type": "markdown",
   "metadata": {},
   "source": [
    "Scissors\n"
   ]
  },
  {
   "cell_type": "code",
   "execution_count": null,
   "metadata": {},
   "outputs": [],
   "source": [
    "\n",
    "cap = cv2.VideoCapture(0)\n",
    "count = 0\n",
    "\n",
    "while True:\n",
    "        ret, frame = cap.read()\n",
    "        \n",
    "        cv2.rectangle(frame, (100, 100), (400, 400), (0, 255, 0), 0)\n",
    "        crop_image = frame[100:300, 100:300]\n",
    "        crop_image = cv2.resize(crop_image, (128, 128))\n",
    "        if cv2.waitKey(1)==13 or count==200:#(presss enter to escape)\n",
    "            break  \n",
    "        elif cv2.waitKey(1)== ord('a') or count>0:#(press enter to start)\n",
    "            count+=1\n",
    "            file_name_path = 'C:/Users/HP/Desktop/rock paper scissor/images/Scissors/'+str(count)+'.jpg'\n",
    "            cv2.imwrite(file_name_path,crop_image)\n",
    "           \n",
    "\n",
    "        cv2.putText(frame,str(count),(50,50),cv2.FONT_HERSHEY_COMPLEX,1,(0,255,0),2)\n",
    "        cv2.imshow('Scissors',frame)\n",
    "\n",
    "cap.release()\n",
    "cv2.destroyAllWindows()\n",
    "print('Colleting Samples Complete!!!')\n"
   ]
  },
  {
   "cell_type": "code",
   "execution_count": null,
   "metadata": {},
   "outputs": [],
   "source": [
    "cap.release()\n",
    "cv2.destroyAllWindows()"
   ]
  },
  {
   "cell_type": "markdown",
   "metadata": {},
   "source": [
    "paper "
   ]
  },
  {
   "cell_type": "code",
   "execution_count": null,
   "metadata": {},
   "outputs": [],
   "source": [
    "\n",
    "cap = cv2.VideoCapture(0)\n",
    "count = 0\n",
    "\n",
    "while True:\n",
    "        ret, frame = cap.read()\n",
    "        \n",
    "        cv2.rectangle(frame, (100, 100), (400, 400), (0, 255, 0), 0)\n",
    "        crop_image = frame[100:300, 100:300]\n",
    "        crop_image = cv2.resize(crop_image, (128, 128))\n",
    "        if cv2.waitKey(1)==13 or count==200:#(presss enter to escape)\n",
    "            break  \n",
    "        elif cv2.waitKey(1)== ord('a') or count>0:#(press enter to start)\n",
    "            count+=1\n",
    "            file_name_path = 'C:/Users/HP/Desktop/rock paper scissor/images/paper/'+str(count)+'.jpg'\n",
    "            cv2.imwrite(file_name_path,crop_image)\n",
    "           \n",
    "\n",
    "        cv2.putText(frame,str(count),(50,50),cv2.FONT_HERSHEY_COMPLEX,1,(0,255,0),2)\n",
    "        cv2.imshow('Paper',frame)\n",
    "\n",
    "cap.release()\n",
    "cv2.destroyAllWindows()\n",
    "print('Colleting Samples Complete!!!')\n"
   ]
  },
  {
   "cell_type": "code",
   "execution_count": null,
   "metadata": {},
   "outputs": [],
   "source": [
    "cap.release()\n",
    "cv2.destroyAllWindows()"
   ]
  },
  {
   "cell_type": "markdown",
   "metadata": {},
   "source": [
    "other"
   ]
  },
  {
   "cell_type": "code",
   "execution_count": null,
   "metadata": {},
   "outputs": [],
   "source": [
    "\n",
    "cap = cv2.VideoCapture(0)\n",
    "count = 0\n",
    "\n",
    "while True:\n",
    "        ret, frame = cap.read()\n",
    "        \n",
    "        cv2.rectangle(frame, (100, 100), (400, 400), (0, 255, 0), 0)\n",
    "        crop_image = frame[100:300, 100:300]\n",
    "        crop_image = cv2.resize(crop_image, (128, 128))\n",
    "        if cv2.waitKey(1)==13 or count==200:#(presss enter to escape)\n",
    "            break  \n",
    "        elif cv2.waitKey(1)== ord('a') or count>0:#(press enter to start)\n",
    "            count+=1\n",
    "            file_name_path = 'C:/Users/HP/Desktop/rock paper scissor/images/other/'+str(count)+'.jpg'\n",
    "            cv2.imwrite(file_name_path,crop_image)\n",
    "           \n",
    "\n",
    "        cv2.putText(frame,str(count),(50,50),cv2.FONT_HERSHEY_COMPLEX,1,(0,255,0),2)\n",
    "        cv2.imshow('other',frame)\n",
    "\n",
    "cap.release()\n",
    "cv2.destroyAllWindows()\n",
    "print('Colleting Samples Complete!!!')\n"
   ]
  },
  {
   "cell_type": "markdown",
   "metadata": {},
   "source": [
    "cap.release()\n",
    "cv2.destroyAllWindows()"
   ]
  },
  {
   "cell_type": "code",
   "execution_count": null,
   "metadata": {},
   "outputs": [],
   "source": []
  },
  {
   "cell_type": "code",
   "execution_count": null,
   "metadata": {},
   "outputs": [],
   "source": []
  },
  {
   "cell_type": "code",
   "execution_count": null,
   "metadata": {},
   "outputs": [],
   "source": []
  },
  {
   "cell_type": "code",
   "execution_count": null,
   "metadata": {},
   "outputs": [],
   "source": []
  }
 ],
 "metadata": {
  "kernelspec": {
   "display_name": "Python 3",
   "language": "python",
   "name": "python3"
  },
  "language_info": {
   "codemirror_mode": {
    "name": "ipython",
    "version": 3
   },
   "file_extension": ".py",
   "mimetype": "text/x-python",
   "name": "python",
   "nbconvert_exporter": "python",
   "pygments_lexer": "ipython3",
   "version": "3.7.4"
  }
 },
 "nbformat": 4,
 "nbformat_minor": 2
}
